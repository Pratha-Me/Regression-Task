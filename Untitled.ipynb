{
 "cells": [
  {
   "cell_type": "code",
   "execution_count": 1,
   "id": "nuclear-spouse",
   "metadata": {},
   "outputs": [
    {
     "name": "stdout",
     "output_type": "stream",
     "text": [
      "\n",
      "Check for null values\n",
      "x     2\n",
      "x2    2\n",
      "y     2\n",
      "dtype: int64\n",
      "\n",
      "Check the DataFrame for central statistics\n",
      "                x          x2           y\n",
      "count  998.000000  998.000000  998.000000\n",
      "mean     3.496300   34.963000    5.641535\n",
      "std      3.270797   32.707971    2.696431\n",
      "min     -3.444108  -34.441079   -0.075518\n",
      "25%      0.118074    1.180740    3.432217\n",
      "50%      4.011380   40.113800    5.081093\n",
      "75%      6.306373   63.063733    8.294083\n",
      "max      9.846538   98.465379   11.521694\n",
      "\n",
      "Impute the skewed data with median\n",
      "\n",
      "Check for null values\n"
     ]
    },
    {
     "data": {
      "text/plain": [
       "x     0\n",
       "x2    0\n",
       "y     0\n",
       "dtype: int64"
      ]
     },
     "execution_count": 1,
     "metadata": {},
     "output_type": "execute_result"
    }
   ],
   "source": [
    "#FEATURE ENGINEERING\n",
    "\n",
    "import warnings\n",
    "warnings.filterwarnings('ignore')\n",
    "warnings.simplefilter('ignore')\n",
    "\n",
    "# import sys\n",
    "# !{sys.executable} -m pip install seaborn\n",
    "\n",
    "\n",
    "import numpy as np\n",
    "import pandas as pd\n",
    "import matplotlib.pyplot as plt\n",
    "import seaborn as sns\n",
    "from mpl_toolkits.mplot3d import Axes3D\n",
    "\n",
    "%matplotlib inline \n",
    "\n",
    "train_df = pd.read_csv('training_data.csv', header=0, delimiter=':', usecols=['x', 'x2', 'y'])\n",
    "# print (\"The first five samples from the DataFrame\\n\")\n",
    "# print (train_df.head())\n",
    "\n",
    "print (\"\\nCheck for null values\")\n",
    "print (train_df.isnull().sum())\n",
    "\n",
    "print (\"\\nCheck the DataFrame for central statistics\")\n",
    "print (train_df.describe())\n",
    "\n",
    "print (\"\\nImpute the skewed data with median\")\n",
    "median = train_df.median()\n",
    "train_df[\"x\"].fillna(median[0], inplace = True)\n",
    "train_df[\"x2\"].fillna(median[1], inplace = True)\n",
    "train_df[\"y\"].fillna(median[2], inplace = True)\n",
    "\n",
    "print (\"\\nCheck for null values\")\n",
    "train_df.isnull().sum()"
   ]
  },
  {
   "cell_type": "code",
   "execution_count": 2,
   "id": "further-softball",
   "metadata": {},
   "outputs": [
    {
     "data": {
      "image/png": "[encoded data removed]",
      "text/plain": [
       "<Figure size 432x288 with 1 Axes>"
      ]
     },
     "metadata": {},
     "output_type": "display_data"
    },
    {
     "data": {
      "image/png": "[encoded data removed]",
      "text/plain": [
       "<Figure size 432x288 with 1 Axes>"
      ]
     },
     "metadata": {},
     "output_type": "display_data"
    }
   ],
   "source": [
    "#FEATURE ENGINEERING\n",
    "from sklearn.preprocessing import StandardScaler \n",
    "\n",
    "X_train, y_train = train_df[['x', 'x2']], train_df[['y']]\n",
    "\n",
    "sns.set_theme(style=\"whitegrid\")\n",
    "ax = sns.boxplot(data=X_train)\n",
    "plt.show()\n",
    "\n",
    "ss = StandardScaler() \n",
    "X_train = ss.fit_transform(X_train) \n",
    "\n",
    "ax = sns.boxplot(data=X_train)\n",
    "plt.show()"
   ]
  },
  {
   "cell_type": "code",
   "execution_count": 3,
   "id": "southwest-collectible",
   "metadata": {},
   "outputs": [
    {
     "name": "stdout",
     "output_type": "stream",
     "text": [
      "\n",
      "Best: -1.483201 using {'C': 5.5, 'epsilon': 1.2}\n",
      "\n",
      "The RMSE for the training data\n",
      "1.4734492905064929\n"
     ]
    }
   ],
   "source": [
    "#GRID SEARCH CV\n",
    "\n",
    "import math\n",
    "from sklearn.svm import SVR\n",
    "from sklearn.model_selection import GridSearchCV\n",
    "from sklearn.metrics import mean_squared_error\n",
    "\n",
    "def rmse(y_actual, y_predict):\n",
    "    MSE = mean_squared_error(y_actual, y_predict)\n",
    "    RMSE = math.sqrt(MSE)\n",
    "    print(RMSE)\n",
    "\n",
    "regressor = SVR(kernel='linear', C=1.0, epsilon=0.2)\n",
    "\n",
    "param_distribs = {\n",
    "    \"C\": [4.5, 5., 5.5, 6., 6.5],\n",
    "    \"epsilon\": [0.6, 0.8, 1, 1.2, 1.4, 1.6, 1.8],\n",
    "}\n",
    "\n",
    "search_cv = GridSearchCV(estimator=regressor, param_grid=param_distribs,\n",
    "        cv=20, scoring='neg_root_mean_squared_error', verbose=0, n_jobs=-1)\n",
    "\n",
    "# Best estimator is selected for further proceedings\n",
    "grid_result = search_cv.fit(X_train, y_train)\n",
    "\n",
    "print(\"\\nBest: %f using %s\" % (grid_result.best_score_, grid_result.best_params_))\n",
    "means = grid_result.cv_results_['mean_test_score']\n",
    "stds = grid_result.cv_results_['std_test_score']\n",
    "params = grid_result.cv_results_['params']\n",
    "\n",
    "grid_result.fit(X_train, y_train)\n",
    "y_predict = grid_result.predict(X_train)\n",
    "\n",
    "print (\"\\nThe RMSE for the training data\")\n",
    "rmse(y_train, y_predict)"
   ]
  },
  {
   "cell_type": "code",
   "execution_count": 4,
   "id": "pending-denial",
   "metadata": {},
   "outputs": [
    {
     "name": "stdout",
     "output_type": "stream",
     "text": [
      "\n",
      "Check for null values\n",
      "x     0\n",
      "x2    0\n",
      "y     0\n",
      "dtype: int64\n"
     ]
    },
    {
     "data": {
      "image/png": "[encoded data removed]",
      "text/plain": [
       "<Figure size 432x288 with 1 Axes>"
      ]
     },
     "metadata": {},
     "output_type": "display_data"
    },
    {
     "data": {
      "image/png": "[encoded data removed]",
      "text/plain": [
       "<Figure size 432x288 with 1 Axes>"
      ]
     },
     "metadata": {},
     "output_type": "display_data"
    },
    {
     "name": "stdout",
     "output_type": "stream",
     "text": [
      "\n",
      "The RMSE for the test data\n",
      "2.286103029047481\n"
     ]
    }
   ],
   "source": [
    "test_df = pd.read_csv('test.csv', header=0, delimiter=':', usecols=['x', 'x2', 'y'])\n",
    "# print (\"The first five samples from the DataFrame\\n\")\n",
    "# print (test_df.head())\n",
    "\n",
    "print (\"\\nCheck for null values\")\n",
    "print (test_df.isnull().sum())\n",
    "\n",
    "X_test, y_test = test_df[['x', 'x2']], test_df[['y']]\n",
    "\n",
    "ax = sns.boxplot(data=X_test)\n",
    "plt.show()\n",
    "\n",
    "ss = StandardScaler() \n",
    "X_test = ss.fit_transform(X_test) \n",
    "\n",
    "ax = sns.boxplot(data=X_test)\n",
    "plt.show()\n",
    "\n",
    "y_predict = grid_result.predict(X_test)\n",
    "print (\"\\nThe RMSE for the test data\")\n",
    "rmse(y_test, y_predict)"
   ]
  },
  {
   "cell_type": "code",
   "execution_count": 6,
   "id": "spatial-credit",
   "metadata": {},
   "outputs": [
    {
     "name": "stdout",
     "output_type": "stream",
     "text": [
      "3.66857372741438\n"
     ]
    }
   ],
   "source": [
    "#JUXTAPOSITION\n",
    "# rmse(y_train, y_predict)\n",
    "train_df = pd.read_csv('training_data.csv', header=0, delimiter=':', usecols=['x', 'x2', 'y'])\n",
    "test_df = pd.read_csv('test.csv', header=0, delimiter=':', usecols=['x', 'x2', 'y'])\n",
    "\n",
    "median = train_df.median()\n",
    "train_df[\"x\"].fillna(median[0], inplace = True)\n",
    "train_df[\"x2\"].fillna(median[1], inplace = True)\n",
    "train_df[\"y\"].fillna(median[2], inplace = True)\n",
    "\n",
    "regressor = SVR(kernel='linear', C=5.5, epsilon=1.2)\n",
    "regressor.fit(train_df[['x', 'x2']], train_df[['y']])\n",
    "y_predict = regressor.predict(test_df.iloc[:, :2])\n",
    "\n",
    "rmse(test_df[['y']], y_predict)"
   ]
  },
  {
   "cell_type": "code",
   "execution_count": null,
   "id": "identical-groove",
   "metadata": {},
   "outputs": [],
   "source": []
  }
 ],
 "metadata": {
  "kernelspec": {
   "display_name": "Python 3",
   "language": "python",
   "name": "python3"
  },
  "language_info": {
   "codemirror_mode": {
    "name": "ipython",
    "version": 3
   },
   "file_extension": ".py",
   "mimetype": "text/x-python",
   "name": "python",
   "nbconvert_exporter": "python",
   "pygments_lexer": "ipython3",
   "version": "3.9.5"
  }
 },
 "nbformat": 4,
 "nbformat_minor": 5
}
